{
 "cells": [
  {
   "cell_type": "code",
   "execution_count": 138,
   "metadata": {},
   "outputs": [],
   "source": [
    "# pip install pandas scikit-learn matplotlib seaborn keras tensorflow xgboost lightgbm catboost"
   ]
  },
  {
   "cell_type": "code",
   "execution_count": 139,
   "metadata": {},
   "outputs": [],
   "source": [
    "import pandas as pd\n",
    "from sklearn import datasets\n",
    "import matplotlib.pyplot as plt\n",
    "import seaborn as sns\n",
    "import keras\n",
    "import tensorflow as tf\n",
    "import xgboost as xgb\n",
    "import lightgbm as lgb\n",
    "import catboost as cat\n",
    "\n",
    "# data_dict_csv = pd.read_csv(r\"2025_Problem_C_Data\\data_dictionary.csv\")\n",
    "athletes = pd.read_csv(r\"2025_Problem_C_Data\\summerOly_athletes.csv\")\n",
    "hosts = pd.read_csv(r\"2025_Problem_C_Data\\summerOly_hosts.csv\")\n",
    "medal = pd.read_csv(r\"2025_Problem_C_Data\\summerOly_medal_counts.csv\")\n",
    "programs = pd.read_csv(r\"2025_Problem_C_Data\\summerOly_programs.csv\", encoding='windows-1252')\n",
    "\n"
   ]
  },
  {
   "cell_type": "code",
   "execution_count": 140,
   "metadata": {},
   "outputs": [],
   "source": [
    "y_2028_sports = pd.read_csv(r\"2025_Problem_C_Data\\summerOly_2028_Sports.csv\")\n"
   ]
  },
  {
   "cell_type": "code",
   "execution_count": 141,
   "metadata": {},
   "outputs": [],
   "source": [
    "def medal_count_for_each_sport(athletes):\n",
    "    train = (\n",
    "        athletes[['Year', 'NOC', 'Sport', 'Event', 'Medal']].drop_duplicates().groupby(['Year', 'NOC', 'Sport', 'Medal'])\n",
    "        .size()\n",
    "        .unstack(fill_value=0)\n",
    "        .reset_index()\n",
    "    ).sort_values(by=['Year', 'Gold', 'Silver', 'Bronze'], ascending=[False, False, False, False]).loc[:, ['Year', 'NOC', 'Sport', 'Gold', 'Silver', 'Bronze', 'No medal']].reset_index(drop=True)\n",
    "    return train\n",
    "\n",
    "def process_hosts(train, hosts):\n",
    "    country_to_noc = {\n",
    "        \"United States\": \"USA\",\n",
    "        \"United Kingdom\": \"GBR\",\n",
    "        \"France\": \"FRA\",\n",
    "        \"Australia\": \"AUS\",\n",
    "        \"Japan\": \"JPN\",\n",
    "        \"Germany\": \"GER\",\n",
    "        \"Greece\": \"GRE\",\n",
    "        \"Brazil\": \"BRA\",\n",
    "        \"China\": \"CHN\",\n",
    "        \"Spain\": \"ESP\",\n",
    "        \"South Korea\": \"KOR\",\n",
    "        \"Russia\": \"RUS\",\n",
    "        \"Canada\": \"CAN\",\n",
    "        \"Mexico\": \"MEX\",\n",
    "        \"Italy\": \"ITA\",\n",
    "        \"Finland\": \"FIN\",\n",
    "        \"Netherlands\": \"NED\",\n",
    "        \"Belgium\": \"BEL\",\n",
    "        \"Sweden\": \"SWE\",\n",
    "    }\n",
    "    hosts['Country'] = hosts['Host'].str.split(',').str[-1].str.strip()\n",
    "    hosts['NOC'] = hosts['Country'].map(country_to_noc)\n",
    "    hosts.loc[hosts['Year'] == 1972, 'NOC'] = 'GER'\n",
    "    hosts.loc[hosts['Year'] == 1980, 'NOC'] = 'RUS'\n",
    "    hosts.loc[hosts['Year'] == 2020, 'NOC'] = 'JPN'\n",
    "    hosts = hosts.drop(['Host', 'Country'], axis=1)\n",
    "\n",
    "    train = pd.merge(train, hosts, on='Year', how='left', suffixes=('', '_host'))\n",
    "    train['NOC_host'] = train.apply(lambda row: 1 if row['NOC'] == row['NOC_host'] else 0, axis=1)\n",
    "    return train\n",
    "\n",
    "def add_EWA_column(train):\n",
    "    GOLD_WEIGHT = 0.5\n",
    "    SILVER_WEIGHT = 0.3\n",
    "    BROUNZE_WEIGHT = 0.2\n",
    "    beta = 0.8\n",
    "\n",
    "    train['current_year_value'] = (\n",
    "        (GOLD_WEIGHT * train['Gold'] + SILVER_WEIGHT * train['Silver'] + BROUNZE_WEIGHT * train['Bronze']) /\n",
    "        (train['Gold'] + train['Silver'] + train['Bronze'] + train['No medal'])\n",
    "    )\n",
    "\n",
    "    train = train.sort_values(by=['NOC', 'Year'])\n",
    "    train['EWA'] = 0\n",
    "\n",
    "    for noc, group in train.groupby('NOC'):\n",
    "        ewa = 0\n",
    "        t=1\n",
    "        for idx, row in group.iterrows():\n",
    "            # Update EWA based on the formula\n",
    "            ewa = (beta * ewa + (1 - beta) * row['current_year_value'])/(1-beta**t)\n",
    "            \n",
    "            train.loc[idx, 'EWA'] = ewa\n",
    "            t += 1\n",
    "    train.drop(columns=['current_year_value'], inplace=True)\n",
    "    return train\n",
    "\n",
    "\n",
    "def combine_by_sport_name(programs):\n",
    "    numeric_columns = programs.columns.difference([\"Sport\", \"Discipline\", \"Code\", \"Sports Governing Body\"])\n",
    "    programs[numeric_columns] = programs[numeric_columns].apply(pd.to_numeric, errors=\"coerce\").fillna(0).astype(int)\n",
    "\n",
    "    aggregated_data = programs.drop(columns=[\"Discipline\", \"Code\", \"Sports Governing Body\"]).groupby(\"Sport\").sum()\n",
    "    aggregated_data.reset_index(inplace=True)\n",
    "\n",
    "    return aggregated_data\n",
    "\n",
    "def add_2028_sports(programs):\n",
    "    programs['Sport'] = programs['Sport'].str.replace('\\xa0', ' ', regex=True)\n",
    "    if '2028' not in programs.columns:\n",
    "        programs = programs.merge(y_2028_sports, how='left', left_on='Sport', right_on='Sport')\n",
    "        programs['2028'] = programs['2028'].fillna(0).astype(int)\n",
    "    return programs"
   ]
  },
  {
   "cell_type": "code",
   "execution_count": 142,
   "metadata": {},
   "outputs": [],
   "source": [
    "train = medal_count_for_each_sport(athletes)\n"
   ]
  },
  {
   "cell_type": "code",
   "execution_count": 143,
   "metadata": {},
   "outputs": [],
   "source": [
    "train = process_hosts(train, hosts)"
   ]
  },
  {
   "cell_type": "code",
   "execution_count": 162,
   "metadata": {},
   "outputs": [
    {
     "data": {
      "text/html": [
       "<div>\n",
       "<style scoped>\n",
       "    .dataframe tbody tr th:only-of-type {\n",
       "        vertical-align: middle;\n",
       "    }\n",
       "\n",
       "    .dataframe tbody tr th {\n",
       "        vertical-align: top;\n",
       "    }\n",
       "\n",
       "    .dataframe thead th {\n",
       "        text-align: right;\n",
       "    }\n",
       "</style>\n",
       "<table border=\"1\" class=\"dataframe\">\n",
       "  <thead>\n",
       "    <tr style=\"text-align: right;\">\n",
       "      <th></th>\n",
       "      <th>Year</th>\n",
       "      <th>NOC</th>\n",
       "      <th>EWA</th>\n",
       "    </tr>\n",
       "  </thead>\n",
       "  <tbody>\n",
       "    <tr>\n",
       "      <th>482</th>\n",
       "      <td>2024</td>\n",
       "      <td>AFG</td>\n",
       "      <td>0.003712</td>\n",
       "    </tr>\n",
       "    <tr>\n",
       "      <th>483</th>\n",
       "      <td>2024</td>\n",
       "      <td>AFG</td>\n",
       "      <td>0.002972</td>\n",
       "    </tr>\n",
       "    <tr>\n",
       "      <th>484</th>\n",
       "      <td>2024</td>\n",
       "      <td>AFG</td>\n",
       "      <td>0.002379</td>\n",
       "    </tr>\n",
       "    <tr>\n",
       "      <th>485</th>\n",
       "      <td>2024</td>\n",
       "      <td>AFG</td>\n",
       "      <td>0.001904</td>\n",
       "    </tr>\n",
       "    <tr>\n",
       "      <th>22802</th>\n",
       "      <td>1952</td>\n",
       "      <td>AHO</td>\n",
       "      <td>0.000000</td>\n",
       "    </tr>\n",
       "  </tbody>\n",
       "</table>\n",
       "</div>"
      ],
      "text/plain": [
       "       Year  NOC       EWA\n",
       "482    2024  AFG  0.003712\n",
       "483    2024  AFG  0.002972\n",
       "484    2024  AFG  0.002379\n",
       "485    2024  AFG  0.001904\n",
       "22802  1952  AHO  0.000000"
      ]
     },
     "execution_count": 162,
     "metadata": {},
     "output_type": "execute_result"
    }
   ],
   "source": [
    "train = add_EWA_column(train)\n",
    "# train[['Year','NOC','EWA']].iloc[30:35]"
   ]
  },
  {
   "cell_type": "code",
   "execution_count": 164,
   "metadata": {},
   "outputs": [
    {
     "data": {
      "text/html": [
       "<div>\n",
       "<style scoped>\n",
       "    .dataframe tbody tr th:only-of-type {\n",
       "        vertical-align: middle;\n",
       "    }\n",
       "\n",
       "    .dataframe tbody tr th {\n",
       "        vertical-align: top;\n",
       "    }\n",
       "\n",
       "    .dataframe thead th {\n",
       "        text-align: right;\n",
       "    }\n",
       "</style>\n",
       "<table border=\"1\" class=\"dataframe\">\n",
       "  <thead>\n",
       "    <tr style=\"text-align: right;\">\n",
       "      <th></th>\n",
       "      <th>Sport</th>\n",
       "      <th>2024</th>\n",
       "    </tr>\n",
       "  </thead>\n",
       "  <tbody>\n",
       "    <tr>\n",
       "      <th>0</th>\n",
       "      <td>Aquatics</td>\n",
       "      <td>49</td>\n",
       "    </tr>\n",
       "    <tr>\n",
       "      <th>1</th>\n",
       "      <td>Archery</td>\n",
       "      <td>5</td>\n",
       "    </tr>\n",
       "    <tr>\n",
       "      <th>2</th>\n",
       "      <td>Athletics</td>\n",
       "      <td>48</td>\n",
       "    </tr>\n",
       "    <tr>\n",
       "      <th>3</th>\n",
       "      <td>Badminton</td>\n",
       "      <td>5</td>\n",
       "    </tr>\n",
       "    <tr>\n",
       "      <th>4</th>\n",
       "      <td>Baseball and Softball</td>\n",
       "      <td>0</td>\n",
       "    </tr>\n",
       "  </tbody>\n",
       "</table>\n",
       "</div>"
      ],
      "text/plain": [
       "                   Sport  2024\n",
       "0               Aquatics    49\n",
       "1                Archery     5\n",
       "2              Athletics    48\n",
       "3              Badminton     5\n",
       "4  Baseball and Softball     0"
      ]
     },
     "execution_count": 164,
     "metadata": {},
     "output_type": "execute_result"
    }
   ],
   "source": [
    "programs = combine_by_sport_name(programs)\n",
    "# programs[['Sport','2024']].head()"
   ]
  },
  {
   "cell_type": "code",
   "execution_count": 146,
   "metadata": {},
   "outputs": [],
   "source": [
    "programs = add_2028_sports(programs)\n",
    "# programs[['Sport','2028']].head()"
   ]
  },
  {
   "cell_type": "code",
   "execution_count": 137,
   "metadata": {},
   "outputs": [],
   "source": []
  }
 ],
 "metadata": {
  "kernelspec": {
   "display_name": "Python 3",
   "language": "python",
   "name": "python3"
  },
  "language_info": {
   "codemirror_mode": {
    "name": "ipython",
    "version": 3
   },
   "file_extension": ".py",
   "mimetype": "text/x-python",
   "name": "python",
   "nbconvert_exporter": "python",
   "pygments_lexer": "ipython3",
   "version": "3.12.7"
  }
 },
 "nbformat": 4,
 "nbformat_minor": 2
}
